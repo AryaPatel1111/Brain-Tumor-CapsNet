{
 "cells": [
  {
   "cell_type": "code",
   "execution_count": 2,
   "metadata": {
    "colab": {
     "base_uri": "https://localhost:8080/"
    },
    "id": "stqE19xeabg6",
    "outputId": "9c84ac45-21e9-43b7-84a5-ae6412d08c58"
   },
   "outputs": [
    {
     "name": "stdout",
     "output_type": "stream",
     "text": [
      "Requirement already up-to-date: keras-tuner in /usr/local/lib/python3.7/dist-packages (1.0.3)\n",
      "Requirement already satisfied, skipping upgrade: packaging in /usr/local/lib/python3.7/dist-packages (from keras-tuner) (20.9)\n",
      "Requirement already satisfied, skipping upgrade: kt-legacy in /usr/local/lib/python3.7/dist-packages (from keras-tuner) (1.0.3)\n",
      "Requirement already satisfied, skipping upgrade: tensorboard in /usr/local/lib/python3.7/dist-packages (from keras-tuner) (2.5.0)\n",
      "Requirement already satisfied, skipping upgrade: requests in /usr/local/lib/python3.7/dist-packages (from keras-tuner) (2.23.0)\n",
      "Requirement already satisfied, skipping upgrade: ipython in /usr/local/lib/python3.7/dist-packages (from keras-tuner) (5.5.0)\n",
      "Requirement already satisfied, skipping upgrade: numpy in /usr/local/lib/python3.7/dist-packages (from keras-tuner) (1.19.5)\n",
      "Requirement already satisfied, skipping upgrade: scipy in /usr/local/lib/python3.7/dist-packages (from keras-tuner) (1.4.1)\n",
      "Requirement already satisfied, skipping upgrade: pyparsing>=2.0.2 in /usr/local/lib/python3.7/dist-packages (from packaging->keras-tuner) (2.4.7)\n",
      "Requirement already satisfied, skipping upgrade: protobuf>=3.6.0 in /usr/local/lib/python3.7/dist-packages (from tensorboard->keras-tuner) (3.12.4)\n",
      "Requirement already satisfied, skipping upgrade: tensorboard-data-server<0.7.0,>=0.6.0 in /usr/local/lib/python3.7/dist-packages (from tensorboard->keras-tuner) (0.6.1)\n",
      "Requirement already satisfied, skipping upgrade: wheel>=0.26; python_version >= \"3\" in /usr/local/lib/python3.7/dist-packages (from tensorboard->keras-tuner) (0.36.2)\n",
      "Requirement already satisfied, skipping upgrade: absl-py>=0.4 in /usr/local/lib/python3.7/dist-packages (from tensorboard->keras-tuner) (0.12.0)\n",
      "Requirement already satisfied, skipping upgrade: tensorboard-plugin-wit>=1.6.0 in /usr/local/lib/python3.7/dist-packages (from tensorboard->keras-tuner) (1.8.0)\n",
      "Requirement already satisfied, skipping upgrade: werkzeug>=0.11.15 in /usr/local/lib/python3.7/dist-packages (from tensorboard->keras-tuner) (1.0.1)\n",
      "Requirement already satisfied, skipping upgrade: setuptools>=41.0.0 in /usr/local/lib/python3.7/dist-packages (from tensorboard->keras-tuner) (57.0.0)\n",
      "Requirement already satisfied, skipping upgrade: google-auth-oauthlib<0.5,>=0.4.1 in /usr/local/lib/python3.7/dist-packages (from tensorboard->keras-tuner) (0.4.4)\n",
      "Requirement already satisfied, skipping upgrade: google-auth<2,>=1.6.3 in /usr/local/lib/python3.7/dist-packages (from tensorboard->keras-tuner) (1.31.0)\n",
      "Requirement already satisfied, skipping upgrade: grpcio>=1.24.3 in /usr/local/lib/python3.7/dist-packages (from tensorboard->keras-tuner) (1.34.1)\n",
      "Requirement already satisfied, skipping upgrade: markdown>=2.6.8 in /usr/local/lib/python3.7/dist-packages (from tensorboard->keras-tuner) (3.3.4)\n",
      "Requirement already satisfied, skipping upgrade: certifi>=2017.4.17 in /usr/local/lib/python3.7/dist-packages (from requests->keras-tuner) (2021.5.30)\n",
      "Requirement already satisfied, skipping upgrade: urllib3!=1.25.0,!=1.25.1,<1.26,>=1.21.1 in /usr/local/lib/python3.7/dist-packages (from requests->keras-tuner) (1.24.3)\n",
      "Requirement already satisfied, skipping upgrade: idna<3,>=2.5 in /usr/local/lib/python3.7/dist-packages (from requests->keras-tuner) (2.10)\n",
      "Requirement already satisfied, skipping upgrade: chardet<4,>=3.0.2 in /usr/local/lib/python3.7/dist-packages (from requests->keras-tuner) (3.0.4)\n",
      "Requirement already satisfied, skipping upgrade: prompt-toolkit<2.0.0,>=1.0.4 in /usr/local/lib/python3.7/dist-packages (from ipython->keras-tuner) (1.0.18)\n",
      "Requirement already satisfied, skipping upgrade: decorator in /usr/local/lib/python3.7/dist-packages (from ipython->keras-tuner) (4.4.2)\n",
      "Requirement already satisfied, skipping upgrade: traitlets>=4.2 in /usr/local/lib/python3.7/dist-packages (from ipython->keras-tuner) (5.0.5)\n",
      "Requirement already satisfied, skipping upgrade: pickleshare in /usr/local/lib/python3.7/dist-packages (from ipython->keras-tuner) (0.7.5)\n",
      "Requirement already satisfied, skipping upgrade: simplegeneric>0.8 in /usr/local/lib/python3.7/dist-packages (from ipython->keras-tuner) (0.8.1)\n",
      "Requirement already satisfied, skipping upgrade: pexpect; sys_platform != \"win32\" in /usr/local/lib/python3.7/dist-packages (from ipython->keras-tuner) (4.8.0)\n",
      "Requirement already satisfied, skipping upgrade: pygments in /usr/local/lib/python3.7/dist-packages (from ipython->keras-tuner) (2.6.1)\n",
      "Requirement already satisfied, skipping upgrade: six>=1.9 in /usr/local/lib/python3.7/dist-packages (from protobuf>=3.6.0->tensorboard->keras-tuner) (1.15.0)\n",
      "Requirement already satisfied, skipping upgrade: requests-oauthlib>=0.7.0 in /usr/local/lib/python3.7/dist-packages (from google-auth-oauthlib<0.5,>=0.4.1->tensorboard->keras-tuner) (1.3.0)\n",
      "Requirement already satisfied, skipping upgrade: pyasn1-modules>=0.2.1 in /usr/local/lib/python3.7/dist-packages (from google-auth<2,>=1.6.3->tensorboard->keras-tuner) (0.2.8)\n",
      "Requirement already satisfied, skipping upgrade: rsa<5,>=3.1.4; python_version >= \"3.6\" in /usr/local/lib/python3.7/dist-packages (from google-auth<2,>=1.6.3->tensorboard->keras-tuner) (4.7.2)\n",
      "Requirement already satisfied, skipping upgrade: cachetools<5.0,>=2.0.0 in /usr/local/lib/python3.7/dist-packages (from google-auth<2,>=1.6.3->tensorboard->keras-tuner) (4.2.2)\n",
      "Requirement already satisfied, skipping upgrade: importlib-metadata; python_version < \"3.8\" in /usr/local/lib/python3.7/dist-packages (from markdown>=2.6.8->tensorboard->keras-tuner) (4.5.0)\n",
      "Requirement already satisfied, skipping upgrade: wcwidth in /usr/local/lib/python3.7/dist-packages (from prompt-toolkit<2.0.0,>=1.0.4->ipython->keras-tuner) (0.2.5)\n",
      "Requirement already satisfied, skipping upgrade: ipython-genutils in /usr/local/lib/python3.7/dist-packages (from traitlets>=4.2->ipython->keras-tuner) (0.2.0)\n",
      "Requirement already satisfied, skipping upgrade: ptyprocess>=0.5 in /usr/local/lib/python3.7/dist-packages (from pexpect; sys_platform != \"win32\"->ipython->keras-tuner) (0.7.0)\n",
      "Requirement already satisfied, skipping upgrade: oauthlib>=3.0.0 in /usr/local/lib/python3.7/dist-packages (from requests-oauthlib>=0.7.0->google-auth-oauthlib<0.5,>=0.4.1->tensorboard->keras-tuner) (3.1.1)\n",
      "Requirement already satisfied, skipping upgrade: pyasn1<0.5.0,>=0.4.6 in /usr/local/lib/python3.7/dist-packages (from pyasn1-modules>=0.2.1->google-auth<2,>=1.6.3->tensorboard->keras-tuner) (0.4.8)\n",
      "Requirement already satisfied, skipping upgrade: zipp>=0.5 in /usr/local/lib/python3.7/dist-packages (from importlib-metadata; python_version < \"3.8\"->markdown>=2.6.8->tensorboard->keras-tuner) (3.4.1)\n",
      "Requirement already satisfied, skipping upgrade: typing-extensions>=3.6.4; python_version < \"3.8\" in /usr/local/lib/python3.7/dist-packages (from importlib-metadata; python_version < \"3.8\"->markdown>=2.6.8->tensorboard->keras-tuner) (3.7.4.3)\n"
     ]
    }
   ],
   "source": [
    "!pip install -q keras\n",
    "!pip install -U keras-tuner"
   ]
  },
  {
   "cell_type": "code",
   "execution_count": 8,
   "metadata": {
    "colab": {
     "base_uri": "https://localhost:8080/"
    },
    "id": "TEN5U8A2ahDt",
    "outputId": "e7452a2b-893a-4833-d094-ddcb1e129987"
   },
   "outputs": [
    {
     "name": "stdout",
     "output_type": "stream",
     "text": [
      "The tensorboard extension is already loaded. To reload it, use:\n",
      "  %reload_ext tensorboard\n"
     ]
    }
   ],
   "source": [
    "import cv2\n",
    "import pandas as pd\n",
    "import numpy as np\n",
    "import keras\n",
    "import random \n",
    "%matplotlib inline\n",
    "import matplotlib\n",
    "import matplotlib.pyplot as plt\n",
    "import torch\n",
    "import IPython\n",
    "import tensorflow as tf\n",
    "%load_ext tensorboard\n",
    "from tensorflow import keras\n",
    "from tensorflow.keras.layers import Dense, Dropout, Activation, Flatten, Conv2D, MaxPooling2D\n",
    "from tensorflow.keras.callbacks import TensorBoard\n",
    "from keras.engine import input_layer\n",
    "from keras.models import load_model\n",
    "import kerastuner as kt\n",
    "from kerastuner.tuners import RandomSearch\n",
    "from kerastuner.engine.hyperparameters import HyperParameters\n",
    "from keras.preprocessing.image import ImageDataGenerator\n",
    "from sklearn.utils import class_weight\n",
    "from sklearn.model_selection import train_test_split\n",
    "from sklearn.metrics import confusion_matrix\n",
    "from sklearn.metrics import accuracy_score, precision_score, recall_score, f1_score\n",
    "import pickle\n",
    "import datetime, os\n",
    "import time"
   ]
  },
  {
   "cell_type": "code",
   "execution_count": 9,
   "metadata": {
    "colab": {
     "base_uri": "https://localhost:8080/"
    },
    "id": "ogMkwWLWZ_HF",
    "outputId": "a1d87f5d-b5d7-4cba-a388-e9b36b72d487"
   },
   "outputs": [
    {
     "name": "stdout",
     "output_type": "stream",
     "text": [
      "WARNING:tensorflow:From C:\\Users\\aryam\\anaconda3\\lib\\site-packages\\tensorflow\\python\\compat\\v2_compat.py:96: disable_resource_variables (from tensorflow.python.ops.variable_scope) is deprecated and will be removed in a future version.\n",
      "Instructions for updating:\n",
      "non-resource variables are not supported in the long term\n"
     ]
    }
   ],
   "source": [
    "import tensorflow.compat.v1 as tf\n",
    "tf.disable_v2_behavior() "
   ]
  },
  {
   "cell_type": "markdown",
   "metadata": {
    "id": "s7z2YFwkelc6"
   },
   "source": [
    "# Define Globals"
   ]
  },
  {
   "cell_type": "code",
   "execution_count": 11,
   "metadata": {
    "id": "k-3f6zyyepx2"
   },
   "outputs": [],
   "source": [
    "#Image Directory Path\n",
    "full_path = './Dataset/Training'\n",
    "\n",
    "#Image Subfolder\n",
    "FULLDATADIR = full_path\n",
    "CATEGORIES = [\"glioma_tumor\", \"meningioma_tumor\", \"no_tumor\", \"pituitary_tumor\"]\n"
   ]
  },
  {
   "cell_type": "markdown",
   "metadata": {
    "id": "ebGasF8rf8d1"
   },
   "source": [
    "# Data Exploration"
   ]
  },
  {
   "cell_type": "code",
   "execution_count": 12,
   "metadata": {
    "colab": {
     "base_uri": "https://localhost:8080/",
     "height": 269
    },
    "id": "It7TnpBRgBwY",
    "outputId": "51e3d2c7-3685-4d54-9e2c-5f58d5494b18"
   },
   "outputs": [
    {
     "data": {
      "image/png": "[encoded data removed]",
      "text/plain": [
       "<Figure size 432x288 with 1 Axes>"
      ]
     },
     "metadata": {
      "needs_background": "light"
     },
     "output_type": "display_data"
    }
   ],
   "source": [
    "for category in CATEGORIES:\n",
    "  path = os.path.join(FULLDATADIR, category)\n",
    "  for img in os.listdir(path):\n",
    "    img_array = cv2.imread(os.path.join(path,img), cv2.IMREAD_GRAYSCALE)\n",
    "    plt.imshow(img_array, cmap=\"gray\")\n",
    "    plt.show()\n",
    "    break\n",
    "  break"
   ]
  },
  {
   "cell_type": "code",
   "execution_count": 13,
   "metadata": {
    "colab": {
     "base_uri": "https://localhost:8080/"
    },
    "id": "SivK83MGgvS9",
    "outputId": "2b23da0c-d39f-4e4d-f2f3-ac75cd97105e"
   },
   "outputs": [
    {
     "name": "stdout",
     "output_type": "stream",
     "text": [
      "[[0 0 0 ... 0 0 0]\n",
      " [0 0 0 ... 0 0 0]\n",
      " [0 0 0 ... 0 0 0]\n",
      " ...\n",
      " [0 0 0 ... 0 0 0]\n",
      " [0 0 0 ... 0 0 0]\n",
      " [0 0 0 ... 0 0 0]]\n"
     ]
    }
   ],
   "source": [
    "print(img_array)"
   ]
  },
  {
   "cell_type": "code",
   "execution_count": 14,
   "metadata": {
    "colab": {
     "base_uri": "https://localhost:8080/"
    },
    "id": "qhMQA35zgzDV",
    "outputId": "25237852-51da-4f79-c790-f6d0ad6d5ba5"
   },
   "outputs": [
    {
     "data": {
      "text/plain": [
       "(512, 512)"
      ]
     },
     "execution_count": 14,
     "metadata": {},
     "output_type": "execute_result"
    }
   ],
   "source": [
    "img_array.shape"
   ]
  },
  {
   "cell_type": "code",
   "execution_count": 15,
   "metadata": {
    "colab": {
     "base_uri": "https://localhost:8080/"
    },
    "id": "ELE_L4Adgy6z",
    "outputId": "fe0eaece-3078-460d-e9a2-c3a782d2f460"
   },
   "outputs": [
    {
     "name": "stdout",
     "output_type": "stream",
     "text": [
      "0 249\n"
     ]
    }
   ],
   "source": [
    "print(img_array.min(), img_array.max())"
   ]
  },
  {
   "cell_type": "code",
   "execution_count": 16,
   "metadata": {
    "colab": {
     "base_uri": "https://localhost:8080/",
     "height": 624
    },
    "id": "fHb5YVYDgymZ",
    "outputId": "d0b4a06b-a43f-4438-815d-f08c8ccf25f1"
   },
   "outputs": [
    {
     "data": {
      "text/plain": [
       "Text(0.5, 1.0, 'Histogram of Pixel Intensity')"
      ]
     },
     "execution_count": 16,
     "metadata": {},
     "output_type": "execute_result"
    },
    {
     "data": {
      "image/png": "[encoded data removed]",
      "text/plain": [
       "<Figure size 720x720 with 1 Axes>"
      ]
     },
     "metadata": {
      "needs_background": "light"
     },
     "output_type": "display_data"
    }
   ],
   "source": [
    "plt.figure(figsize=(10, 10))\n",
    "plt.hist(img_array, histtype='bar', bins=10)\n",
    "plt.title(\"Histogram of Pixel Intensity\")"
   ]
  },
  {
   "cell_type": "code",
   "execution_count": 17,
   "metadata": {
    "colab": {
     "base_uri": "https://localhost:8080/",
     "height": 286
    },
    "id": "Gg2AzbS1hFZd",
    "outputId": "31862728-9c4b-4be4-8904-7112fe63c4f4"
   },
   "outputs": [
    {
     "data": {
      "text/plain": [
       "<matplotlib.colorbar.Colorbar at 0x1c5189a8580>"
      ]
     },
     "execution_count": 17,
     "metadata": {},
     "output_type": "execute_result"
    },
    {
     "data": {
      "image/png": "[encoded data removed]",
      "text/plain": [
       "<Figure size 432x288 with 2 Axes>"
      ]
     },
     "metadata": {
      "needs_background": "light"
     },
     "output_type": "display_data"
    }
   ],
   "source": [
    "plt.hist2d(img_array[:,1], img_array[:,2], bins=(10,10), cmap=plt.cm.Greys)\n",
    "plt.colorbar()"
   ]
  },
  {
   "cell_type": "markdown",
   "metadata": {
    "id": "9qRr30NihI7K"
   },
   "source": [
    "# Data Wrangling"
   ]
  },
  {
   "cell_type": "code",
   "execution_count": 18,
   "metadata": {
    "id": "FmHERaEjhMPN"
   },
   "outputs": [],
   "source": [
    "# Convolutional Neural Network Re-Size\n",
    "CONV_IMG_SIZE = 256"
   ]
  },
  {
   "cell_type": "code",
   "execution_count": 19,
   "metadata": {
    "colab": {
     "base_uri": "https://localhost:8080/",
     "height": 269
    },
    "id": "SDt1VcXxhQPd",
    "outputId": "05b0cfb8-cffd-4fe0-8c25-a4282ca3e2cb"
   },
   "outputs": [
    {
     "data": {
      "image/png": "[encoded data removed]",
      "text/plain": [
       "<Figure size 432x288 with 1 Axes>"
      ]
     },
     "metadata": {
      "needs_background": "light"
     },
     "output_type": "display_data"
    }
   ],
   "source": [
    "new_array = cv2.resize(img_array, (CONV_IMG_SIZE, CONV_IMG_SIZE))\n",
    "plt.imshow(new_array, cmap=\"gray\")\n",
    "plt.show()"
   ]
  },
  {
   "cell_type": "code",
   "execution_count": 20,
   "metadata": {
    "id": "DQLnW_FzhQMU"
   },
   "outputs": [],
   "source": [
    "# Capsule Neural Network Re-Size\n",
    "CAPS_IMG_SIZE = 56"
   ]
  },
  {
   "cell_type": "code",
   "execution_count": 21,
   "metadata": {
    "colab": {
     "base_uri": "https://localhost:8080/",
     "height": 267
    },
    "id": "fMgnywO6hQEU",
    "outputId": "4cbd4902-a433-44d6-c6cc-e4cd78c0ec98"
   },
   "outputs": [
    {
     "data": {
      "image/png": "[encoded data removed]",
      "text/plain": [
       "<Figure size 432x288 with 1 Axes>"
      ]
     },
     "metadata": {
      "needs_background": "light"
     },
     "output_type": "display_data"
    }
   ],
   "source": [
    "new_array = cv2.resize(img_array, (CAPS_IMG_SIZE, CAPS_IMG_SIZE))\n",
    "plt.imshow(new_array, cmap=\"gray\")\n",
    "plt.show()"
   ]
  },
  {
   "cell_type": "markdown",
   "metadata": {
    "id": "Hy9N1JEQhZvP"
   },
   "source": [
    "### Append Labels"
   ]
  },
  {
   "cell_type": "code",
   "execution_count": 22,
   "metadata": {
    "id": "aH1-nb1EhhJn"
   },
   "outputs": [],
   "source": [
    "caps_full_data = []\n",
    "\n",
    "def create_full_caps_data():\n",
    "  for category in CATEGORIES:\n",
    "    path = os.path.join(FULLDATADIR, category)\n",
    "    class_num = CATEGORIES.index(category)\n",
    "    for img in os.listdir(path):\n",
    "      try:\n",
    "        img_array = cv2.imread(os.path.join(path,img), cv2.IMREAD_GRAYSCALE)\n",
    "        new_array = cv2.resize(img_array, (CAPS_IMG_SIZE, CAPS_IMG_SIZE))\n",
    "        caps_full_data.append([new_array, class_num])\n",
    "      except Exception as e:\n",
    "        pass\n",
    "\n",
    "create_full_caps_data()"
   ]
  },
  {
   "cell_type": "code",
   "execution_count": 23,
   "metadata": {
    "colab": {
     "base_uri": "https://localhost:8080/"
    },
    "id": "q4tu2f8YhjCW",
    "outputId": "4659a1e0-74d4-4296-a4b8-35101fec5d68"
   },
   "outputs": [
    {
     "data": {
      "text/plain": [
       "2870"
      ]
     },
     "execution_count": 23,
     "metadata": {},
     "output_type": "execute_result"
    }
   ],
   "source": [
    "len(caps_full_data)"
   ]
  },
  {
   "cell_type": "code",
   "execution_count": 24,
   "metadata": {
    "id": "zjsVd6vUhroS"
   },
   "outputs": [],
   "source": [
    "random.shuffle(caps_full_data)"
   ]
  },
  {
   "cell_type": "code",
   "execution_count": 25,
   "metadata": {
    "colab": {
     "base_uri": "https://localhost:8080/"
    },
    "id": "SOjERWpfhrmM",
    "outputId": "c44822d9-e6d6-41df-d1d8-07229696cab8"
   },
   "outputs": [
    {
     "name": "stdout",
     "output_type": "stream",
     "text": [
      "3\n",
      "3\n",
      "0\n",
      "2\n",
      "1\n",
      "0\n",
      "1\n",
      "1\n",
      "1\n",
      "1\n"
     ]
    }
   ],
   "source": [
    "for sample in caps_full_data[:10]:\n",
    "  print(sample[1])"
   ]
  },
  {
   "cell_type": "code",
   "execution_count": 26,
   "metadata": {
    "id": "R284NwQUhrd0"
   },
   "outputs": [],
   "source": [
    "caps_full_training_x = []\n",
    "caps_full_train_y = []\n",
    "\n",
    "for features, label in caps_full_data:\n",
    "  caps_full_training_x.append(features)\n",
    "  caps_full_train_y.append(label)\n",
    "\n",
    "# covert each of the pixel elements into a 1 element list (1 channel for grayscale)\n",
    "caps_full_training_x = np.array(caps_full_training_x)\n",
    "caps_full_train_x = caps_full_training_x.reshape(2870,56,56,1)"
   ]
  },
  {
   "cell_type": "code",
   "execution_count": 27,
   "metadata": {
    "colab": {
     "base_uri": "https://localhost:8080/"
    },
    "id": "N0Cppq_UmbXw",
    "outputId": "42cfd42f-389e-4d5f-cd9f-75cda0b61b3e"
   },
   "outputs": [
    {
     "name": "stdout",
     "output_type": "stream",
     "text": [
      "(2870, 56, 56, 1)\n"
     ]
    }
   ],
   "source": [
    "print(caps_full_train_x.shape)"
   ]
  },
  {
   "cell_type": "markdown",
   "metadata": {
    "id": "IYzgvTXUh_QK"
   },
   "source": [
    "## Save Input Data"
   ]
  },
  {
   "cell_type": "code",
   "execution_count": 30,
   "metadata": {
    "id": "a3XHB-plh5QA"
   },
   "outputs": [
    {
     "ename": "FileNotFoundError",
     "evalue": "[Errno 2] No such file or directory: './brain_tumors/{feature_info}'",
     "output_type": "error",
     "traceback": [
      "\u001b[1;31m---------------------------------------------------------------------------\u001b[0m",
      "\u001b[1;31mFileNotFoundError\u001b[0m                         Traceback (most recent call last)",
      "\u001b[1;32m<ipython-input-30-9b3cc515b528>\u001b[0m in \u001b[0;36m<module>\u001b[1;34m\u001b[0m\n\u001b[0;32m      2\u001b[0m \u001b[0mfeature_info\u001b[0m \u001b[1;33m=\u001b[0m \u001b[1;34m'caps_full_training_features.pt'\u001b[0m\u001b[1;33m\u001b[0m\u001b[1;33m\u001b[0m\u001b[0m\n\u001b[0;32m      3\u001b[0m \u001b[0mcaps_path\u001b[0m \u001b[1;33m=\u001b[0m \u001b[1;34m\"./brain_tumors/{feature_info}\"\u001b[0m\u001b[1;33m\u001b[0m\u001b[1;33m\u001b[0m\u001b[0m\n\u001b[1;32m----> 4\u001b[1;33m \u001b[0mtorch\u001b[0m\u001b[1;33m.\u001b[0m\u001b[0msave\u001b[0m\u001b[1;33m(\u001b[0m\u001b[0mcaps_full_train_x\u001b[0m\u001b[1;33m,\u001b[0m \u001b[0mcaps_path\u001b[0m\u001b[1;33m)\u001b[0m\u001b[1;33m\u001b[0m\u001b[1;33m\u001b[0m\u001b[0m\n\u001b[0m\u001b[0;32m      5\u001b[0m \u001b[1;33m\u001b[0m\u001b[0m\n\u001b[0;32m      6\u001b[0m \u001b[0mlabel_info\u001b[0m \u001b[1;33m=\u001b[0m \u001b[1;34m'caps_full_training_labels.pt'\u001b[0m\u001b[1;33m\u001b[0m\u001b[1;33m\u001b[0m\u001b[0m\n",
      "\u001b[1;32m~\\anaconda3\\lib\\site-packages\\torch\\serialization.py\u001b[0m in \u001b[0;36msave\u001b[1;34m(obj, f, pickle_module, pickle_protocol, _use_new_zipfile_serialization)\u001b[0m\n\u001b[0;32m    374\u001b[0m     \u001b[0m_check_dill_version\u001b[0m\u001b[1;33m(\u001b[0m\u001b[0mpickle_module\u001b[0m\u001b[1;33m)\u001b[0m\u001b[1;33m\u001b[0m\u001b[1;33m\u001b[0m\u001b[0m\n\u001b[0;32m    375\u001b[0m \u001b[1;33m\u001b[0m\u001b[0m\n\u001b[1;32m--> 376\u001b[1;33m     \u001b[1;32mwith\u001b[0m \u001b[0m_open_file_like\u001b[0m\u001b[1;33m(\u001b[0m\u001b[0mf\u001b[0m\u001b[1;33m,\u001b[0m \u001b[1;34m'wb'\u001b[0m\u001b[1;33m)\u001b[0m \u001b[1;32mas\u001b[0m \u001b[0mopened_file\u001b[0m\u001b[1;33m:\u001b[0m\u001b[1;33m\u001b[0m\u001b[1;33m\u001b[0m\u001b[0m\n\u001b[0m\u001b[0;32m    377\u001b[0m         \u001b[1;32mif\u001b[0m \u001b[0m_use_new_zipfile_serialization\u001b[0m\u001b[1;33m:\u001b[0m\u001b[1;33m\u001b[0m\u001b[1;33m\u001b[0m\u001b[0m\n\u001b[0;32m    378\u001b[0m             \u001b[1;32mwith\u001b[0m \u001b[0m_open_zipfile_writer\u001b[0m\u001b[1;33m(\u001b[0m\u001b[0mopened_file\u001b[0m\u001b[1;33m)\u001b[0m \u001b[1;32mas\u001b[0m \u001b[0mopened_zipfile\u001b[0m\u001b[1;33m:\u001b[0m\u001b[1;33m\u001b[0m\u001b[1;33m\u001b[0m\u001b[0m\n",
      "\u001b[1;32m~\\anaconda3\\lib\\site-packages\\torch\\serialization.py\u001b[0m in \u001b[0;36m_open_file_like\u001b[1;34m(name_or_buffer, mode)\u001b[0m\n\u001b[0;32m    228\u001b[0m \u001b[1;32mdef\u001b[0m \u001b[0m_open_file_like\u001b[0m\u001b[1;33m(\u001b[0m\u001b[0mname_or_buffer\u001b[0m\u001b[1;33m,\u001b[0m \u001b[0mmode\u001b[0m\u001b[1;33m)\u001b[0m\u001b[1;33m:\u001b[0m\u001b[1;33m\u001b[0m\u001b[1;33m\u001b[0m\u001b[0m\n\u001b[0;32m    229\u001b[0m     \u001b[1;32mif\u001b[0m \u001b[0m_is_path\u001b[0m\u001b[1;33m(\u001b[0m\u001b[0mname_or_buffer\u001b[0m\u001b[1;33m)\u001b[0m\u001b[1;33m:\u001b[0m\u001b[1;33m\u001b[0m\u001b[1;33m\u001b[0m\u001b[0m\n\u001b[1;32m--> 230\u001b[1;33m         \u001b[1;32mreturn\u001b[0m \u001b[0m_open_file\u001b[0m\u001b[1;33m(\u001b[0m\u001b[0mname_or_buffer\u001b[0m\u001b[1;33m,\u001b[0m \u001b[0mmode\u001b[0m\u001b[1;33m)\u001b[0m\u001b[1;33m\u001b[0m\u001b[1;33m\u001b[0m\u001b[0m\n\u001b[0m\u001b[0;32m    231\u001b[0m     \u001b[1;32melse\u001b[0m\u001b[1;33m:\u001b[0m\u001b[1;33m\u001b[0m\u001b[1;33m\u001b[0m\u001b[0m\n\u001b[0;32m    232\u001b[0m         \u001b[1;32mif\u001b[0m \u001b[1;34m'w'\u001b[0m \u001b[1;32min\u001b[0m \u001b[0mmode\u001b[0m\u001b[1;33m:\u001b[0m\u001b[1;33m\u001b[0m\u001b[1;33m\u001b[0m\u001b[0m\n",
      "\u001b[1;32m~\\anaconda3\\lib\\site-packages\\torch\\serialization.py\u001b[0m in \u001b[0;36m__init__\u001b[1;34m(self, name, mode)\u001b[0m\n\u001b[0;32m    209\u001b[0m \u001b[1;32mclass\u001b[0m \u001b[0m_open_file\u001b[0m\u001b[1;33m(\u001b[0m\u001b[0m_opener\u001b[0m\u001b[1;33m)\u001b[0m\u001b[1;33m:\u001b[0m\u001b[1;33m\u001b[0m\u001b[1;33m\u001b[0m\u001b[0m\n\u001b[0;32m    210\u001b[0m     \u001b[1;32mdef\u001b[0m \u001b[0m__init__\u001b[0m\u001b[1;33m(\u001b[0m\u001b[0mself\u001b[0m\u001b[1;33m,\u001b[0m \u001b[0mname\u001b[0m\u001b[1;33m,\u001b[0m \u001b[0mmode\u001b[0m\u001b[1;33m)\u001b[0m\u001b[1;33m:\u001b[0m\u001b[1;33m\u001b[0m\u001b[1;33m\u001b[0m\u001b[0m\n\u001b[1;32m--> 211\u001b[1;33m         \u001b[0msuper\u001b[0m\u001b[1;33m(\u001b[0m\u001b[0m_open_file\u001b[0m\u001b[1;33m,\u001b[0m \u001b[0mself\u001b[0m\u001b[1;33m)\u001b[0m\u001b[1;33m.\u001b[0m\u001b[0m__init__\u001b[0m\u001b[1;33m(\u001b[0m\u001b[0mopen\u001b[0m\u001b[1;33m(\u001b[0m\u001b[0mname\u001b[0m\u001b[1;33m,\u001b[0m \u001b[0mmode\u001b[0m\u001b[1;33m)\u001b[0m\u001b[1;33m)\u001b[0m\u001b[1;33m\u001b[0m\u001b[1;33m\u001b[0m\u001b[0m\n\u001b[0m\u001b[0;32m    212\u001b[0m \u001b[1;33m\u001b[0m\u001b[0m\n\u001b[0;32m    213\u001b[0m     \u001b[1;32mdef\u001b[0m \u001b[0m__exit__\u001b[0m\u001b[1;33m(\u001b[0m\u001b[0mself\u001b[0m\u001b[1;33m,\u001b[0m \u001b[1;33m*\u001b[0m\u001b[0margs\u001b[0m\u001b[1;33m)\u001b[0m\u001b[1;33m:\u001b[0m\u001b[1;33m\u001b[0m\u001b[1;33m\u001b[0m\u001b[0m\n",
      "\u001b[1;31mFileNotFoundError\u001b[0m: [Errno 2] No such file or directory: './brain_tumors/{feature_info}'"
     ]
    }
   ],
   "source": [
    "# save the label capsule and feature info to the google drive\n",
    "feature_info = 'caps_full_training_features.pt'\n",
    "caps_path = \"./brain_tumors/{feature_info}\" \n",
    "torch.save(caps_full_train_x, caps_path)\n",
    "\n",
    "label_info = 'caps_full_training_labels.pt'\n",
    "caps_path =\"./brain_tumors/{label_info}\" \n",
    "torch.save(caps_full_train_y, caps_path)"
   ]
  },
  {
   "cell_type": "markdown",
   "metadata": {
    "id": "vGoDvS5zi24d"
   },
   "source": [
    "## Load Input Data"
   ]
  },
  {
   "cell_type": "code",
   "execution_count": null,
   "metadata": {
    "id": "pxYFRISSh5L3"
   },
   "outputs": [],
   "source": [
    "# load the label capsule and feature info from the google drive\n",
    "feature_info = 'caps_full_training_features.pt'\n",
    "caps_path = F\"/content/gdrive/My Drive/brain_tumors/{feature_info}\" \n",
    "caps_x_saved = torch.load(caps_path)\n",
    "\n",
    "label_info = 'caps_full_training_labels.pt'\n",
    "caps_path = F\"/content/gdrive/My Drive/brain_tumors/{label_info}\" \n",
    "caps_y_saved = torch.load(caps_path)"
   ]
  },
  {
   "cell_type": "markdown",
   "metadata": {
    "id": "IQWZjQ7YaH7W"
   },
   "source": [
    "### Reset the default graph and set the random seed"
   ]
  },
  {
   "cell_type": "code",
   "execution_count": null,
   "metadata": {
    "id": "STa3iOvnaM14"
   },
   "outputs": [],
   "source": [
    "tf.reset_default_graph()\n",
    "np.random.seed(42)\n",
    "tf.set_random_seed(42)"
   ]
  },
  {
   "cell_type": "markdown",
   "metadata": {
    "id": "iSykRgG5cEQ4"
   },
   "source": [
    "### Ancillary Functions"
   ]
  },
  {
   "cell_type": "code",
   "execution_count": null,
   "metadata": {
    "id": "4f_8qd9WcIaH"
   },
   "outputs": [],
   "source": [
    "# Create output vectors with length <= 1, Epsilon value is designed to avoid a 'divide by zero' error\n",
    "def squash_fn(s, axis=-1, epsilon=1e-7, name=None):\n",
    "  with tf.name_scope(name, default_name=\"squash_fn\"):\n",
    "    squared_norm = tf.reduce_sum(tf.square(s), axis=axis, keepdims=True)\n",
    "    safe_norm = tf.sqrt(squared_norm + epsilon)\n",
    "    squash_factor = squared_norm / (1. + squared_norm)\n",
    "    unit_vector = s / safe_norm\n",
    "\n",
    "    return squash_factor * unit_vector\n",
    "\n",
    "\n",
    "#Normalize the output of the output label vectors (avoid 'divide by zero' error)\n",
    "def safe_norm(s, axis=-1, epsilon=1e-7, keepdims=False, name=None):\n",
    "  with tf.name_scope(name, default_name=\"safe_norm\"):\n",
    "    squared_norm = tf.reduce_sum(tf.square(s), axis=axis, keepdims=keepdims)\n",
    "\n",
    "    return tf.sqrt(squared_norm + epsilon)"
   ]
  },
  {
   "cell_type": "markdown",
   "metadata": {
    "id": "mD2l-6k8eLKf"
   },
   "source": [
    "### Re-shape Data, Assign Data Type, Train-Test-Validation Split"
   ]
  },
  {
   "cell_type": "code",
   "execution_count": null,
   "metadata": {
    "colab": {
     "base_uri": "https://localhost:8080/"
    },
    "id": "5zQMndhCcMC6",
    "outputId": "a17967eb-9036-412b-db75-43be478b5256"
   },
   "outputs": [],
   "source": [
    "x_data, y_data = caps_x_saved, caps_y_saved\n",
    "x_data.shape"
   ]
  },
  {
   "cell_type": "code",
   "execution_count": null,
   "metadata": {
    "colab": {
     "base_uri": "https://localhost:8080/"
    },
    "id": "hsIsG_0fjOlr",
    "outputId": "6a9c56aa-7877-4be3-9ea7-cd0de430a677"
   },
   "outputs": [],
   "source": [
    "full_x_data = x_data.reshape(2870,56,56)\n",
    "full_x_data.shape"
   ]
  },
  {
   "cell_type": "code",
   "execution_count": null,
   "metadata": {
    "id": "jbrd9nGnjecy"
   },
   "outputs": [],
   "source": [
    "# Set data types\n",
    "full_x_data = full_x_data.astype('float32')\n",
    "train_y = np.asarray(y_data, dtype=np.int32)\n",
    "\n",
    "# Scale data set\n",
    "full_x_data /= 255"
   ]
  },
  {
   "cell_type": "code",
   "execution_count": null,
   "metadata": {
    "id": "ZUsr4zepjfuG"
   },
   "outputs": [],
   "source": [
    "train_X, test_X, train_y, test_y = train_test_split(full_x_data, y_data, test_size = 0.2, random_state=25)"
   ]
  },
  {
   "cell_type": "code",
   "execution_count": null,
   "metadata": {
    "id": "qmbLf69ujg34"
   },
   "outputs": [],
   "source": [
    "train_X, train_y, val_X, val_y = train_X[0:2570], train_y[0:2570], train_X[2570:], train_y[2570:] # 12.7%"
   ]
  },
  {
   "cell_type": "code",
   "execution_count": null,
   "metadata": {
    "colab": {
     "base_uri": "https://localhost:8080/"
    },
    "id": "P4wL4dacjiVP",
    "outputId": "034a26eb-c8ef-4edf-bf9b-5e9c080e4abe"
   },
   "outputs": [],
   "source": [
    "train_X[0][10]"
   ]
  },
  {
   "cell_type": "code",
   "execution_count": null,
   "metadata": {
    "colab": {
     "base_uri": "https://localhost:8080/",
     "height": 241
    },
    "id": "CBOKKDs4jjZ1",
    "outputId": "147590d9-aab6-420b-be88-f18cdd6b8eb3"
   },
   "outputs": [],
   "source": [
    "n_samples = 5\n",
    "\n",
    "plt.figure(figsize=(n_samples * 5, 5))\n",
    "for index in range(n_samples):\n",
    "  plt.subplot(1, n_samples, index + 1)\n",
    "  sample_image = train_X[index].reshape(56, 56)\n",
    "  plt.imshow(sample_image, cmap=\"gray\")\n",
    "  plt.axis(\"off\")"
   ]
  },
  {
   "cell_type": "code",
   "execution_count": null,
   "metadata": {
    "colab": {
     "base_uri": "https://localhost:8080/"
    },
    "id": "gRqi2k16jkmJ",
    "outputId": "7b4442f0-695c-4fc4-f942-ee6e19723c33"
   },
   "outputs": [],
   "source": [
    "train_y[:n_samples]"
   ]
  },
  {
   "cell_type": "markdown",
   "metadata": {
    "id": "z8M8pqUojm5Y"
   },
   "source": [
    "### Define the network"
   ]
  },
  {
   "cell_type": "code",
   "execution_count": null,
   "metadata": {
    "id": "OXDYDFxyjl6C"
   },
   "outputs": [],
   "source": [
    "# Create placeholder for the input images\n",
    "X = tf.placeholder(shape=[None, 56, 56, 1], dtype=tf.float32, name=\"X\")"
   ]
  },
  {
   "cell_type": "code",
   "execution_count": null,
   "metadata": {
    "id": "2XiZ5rT0jqR3"
   },
   "outputs": [],
   "source": [
    "# Set up the primary capsule layer, size of each 2D capsule map determined by the kernel size, padding and stride values\n",
    "primary_capsule_maps = 32 \n",
    "num_primary_capsules = primary_capsule_maps * 20 * 20  #12,800 primary capsules (20)\n",
    "primary_capsule_dims = 8  "
   ]
  },
  {
   "cell_type": "code",
   "execution_count": null,
   "metadata": {
    "id": "RKHrGEQ_jrb6"
   },
   "outputs": [],
   "source": [
    "# Define the convolutional layers that will feed into the primary capsule layer\n",
    "conv1_params = {\n",
    "  \"filters\": 256,\n",
    "  \"kernel_size\": 9, \n",
    "  \"strides\": 1,\n",
    "  \"padding\": \"valid\",\n",
    "  \"activation\": tf.nn.relu,\n",
    "}\n",
    "\n",
    "conv2_params = {\n",
    "  \"filters\": primary_capsule_maps * primary_capsule_dims, # 256 convolutional filters\n",
    "  \"kernel_size\": 9, \n",
    "  \"strides\": 2,\n",
    "  \"padding\": \"valid\",\n",
    "  \"activation\": tf.nn.relu\n",
    "}"
   ]
  },
  {
   "cell_type": "code",
   "execution_count": null,
   "metadata": {
    "colab": {
     "base_uri": "https://localhost:8080/"
    },
    "id": "eu43MBJ1jsZg",
    "outputId": "435ae471-421d-4d79-caab-3fd2d74d848f"
   },
   "outputs": [],
   "source": [
    "conv1 = tf.layers.conv2d(X, name=\"conv1\", **conv1_params)\n",
    "conv2 = tf.layers.conv2d(conv1, name=\"conv2\", **conv2_params)"
   ]
  },
  {
   "cell_type": "code",
   "execution_count": null,
   "metadata": {
    "id": "ot1SScAEjtpj"
   },
   "outputs": [],
   "source": [
    "# Flattened raw output of the primary capsule layer (batch size, 2D capsule map X num capsule maps, dimension of each capsule)\n",
    "raw_caps = tf.reshape(conv2, [-1, num_primary_capsules, primary_capsule_dims], name=\"raw_caps\")\n",
    "\n",
    "# Squash the output vectors\n",
    "primary_output_caps = squash_fn(raw_caps, name=\"primary_output_caps\")"
   ]
  },
  {
   "cell_type": "code",
   "execution_count": null,
   "metadata": {
    "id": "Gwf1ICZGju76"
   },
   "outputs": [],
   "source": [
    "# Set up the second capsule layer for the labels, and capsule dimensions\n",
    "caps2_n_caps = 4 \n",
    "caps2_n_dims = 16 "
   ]
  },
  {
   "cell_type": "markdown",
   "metadata": {
    "id": "Ustwdyq-jyoQ"
   },
   "source": [
    "### Compute Label Capsule Predictions"
   ]
  },
  {
   "cell_type": "code",
   "execution_count": null,
   "metadata": {
    "colab": {
     "base_uri": "https://localhost:8080/"
    },
    "id": "ApbDC77Cjxoy",
    "outputId": "c9f0e9ac-6d35-466d-d377-42d9586f74fd"
   },
   "outputs": [],
   "source": [
    "# Create a variable that will hold all of the trainable label prediction transformation matrices\n",
    "sigma = 0.1\n",
    "\n",
    "Weight_init = tf.random_normal(shape=(1, num_primary_capsules, caps2_n_caps, caps2_n_dims, primary_capsule_dims), stddev=sigma, dtype=tf.float32, name=\"Weight_init\")\n",
    "Weights = tf.Variable(Weight_init, name=\"Weights\")\n",
    "\n",
    "# Create an array with one identical matrix variable per instance in the data set\n",
    "batch_size = tf.shape(X)[0]\n",
    "W_tiled = tf.tile(Weights, [batch_size, 1, 1, 1, 1], name=\"W_tiled\")\n",
    "W_tiled"
   ]
  },
  {
   "cell_type": "code",
   "execution_count": null,
   "metadata": {
    "colab": {
     "base_uri": "https://localhost:8080/"
    },
    "id": "oUHRM2JikS0F",
    "outputId": "3a08668b-91f7-4c3b-bee7-1ecc031ced67"
   },
   "outputs": [],
   "source": [
    "# Create an array that will hold the output for each of the primary capsules multiplied by the number of label categories, the dimension is expanded for 'RBA' matrix multiplication\n",
    "ext_primary_output_caps = tf.expand_dims(primary_output_caps, -1, name=\"ext_primary_output_caps\")\n",
    "caps1_output_tile = tf.expand_dims(ext_primary_output_caps, 2, name=\"caps1_output_tile\")\n",
    "caps1_output_tiled = tf.tile(caps1_output_tile, [1, 1, caps2_n_caps, 1, 1], name=\"caps1_output_tiled\") \n",
    "caps1_output_tiled # increased rank"
   ]
  },
  {
   "cell_type": "code",
   "execution_count": null,
   "metadata": {
    "colab": {
     "base_uri": "https://localhost:8080/"
    },
    "id": "cCPgsFt_kUAw",
    "outputId": "c1d1c6bc-124b-4a65-db76-02f4c23fd683"
   },
   "outputs": [],
   "source": [
    "# Multiply the two arrays together to get all of the label capsule predictions\n",
    "caps2_predicted = tf.matmul(W_tiled, caps1_output_tiled, name=\"caps2_predicted\")\n",
    "caps2_predicted"
   ]
  },
  {
   "cell_type": "markdown",
   "metadata": {
    "id": "VNGXIWDskX9D"
   },
   "source": [
    "### Perform Routing by Agreement"
   ]
  },
  {
   "cell_type": "code",
   "execution_count": null,
   "metadata": {
    "id": "nGQaSVSckVqe"
   },
   "outputs": [],
   "source": [
    "# Round 1 -->\n",
    "\n",
    "# Initialize and compute the routing weights by applying the softmax function to the primary capsule outputs\n",
    "raw_weights = tf.zeros([batch_size, num_primary_capsules, caps2_n_caps, 1, 1], dtype=np.float32, name=\"raw_weights\")\n",
    "routing_weights = tf.nn.softmax(raw_weights, axis=2, name=\"routing_weights\")\n",
    "\n",
    "# Compute the weighted sum with the label prediction capsules \n",
    "weighted_predictions = tf.multiply(routing_weights, caps2_predicted, name=\"weighted_predictions\") # automatically 'broadcasts' the routing weights by the label dim size along the 4th dimension\n",
    "weighted_sum = tf.reduce_sum(weighted_predictions, axis=1, keepdims=True, name=\"weighted_sum\")\n",
    "\n",
    "# Squash the wighted sum to get the output of the 1st round of 'RBA'\n",
    "caps2_output_round_1 = squash_fn(weighted_sum, axis=-2, name=\"caps2_output_round_1\")\n",
    "\n",
    "# Get the scalar product (agreement) of the RBA round 1 output and the label predictions by performing an element-wise matrix multiplication\n",
    "caps2_output_round_1_tiled = tf.tile(caps2_output_round_1, [1, num_primary_capsules, 1, 1, 1], name=\"caps2_output_round_1_tiled\") # re-shape so there is one multiplication operation per label\n",
    "agreement = tf.matmul(caps2_predicted, caps2_output_round_1_tiled, transpose_a=True, name=\"agreement\")"
   ]
  },
  {
   "cell_type": "code",
   "execution_count": null,
   "metadata": {
    "id": "6U3E3mI5kbpj"
   },
   "outputs": [],
   "source": [
    "# Round 2 -->\n",
    "\n",
    "# Duplicate the same operations with the round 1 agreement scalar value to get the output label vectors based on agreement with the predictions\n",
    "raw_weights_round_2 = tf.add(raw_weights, agreement, name=\"raw_weights_round_2\")\n",
    "routing_weights_round_2 = tf.nn.softmax(raw_weights_round_2, axis=2, name=\"routing_weights_round_2\")\n",
    "weighted_predictions_round_2 = tf.multiply(routing_weights_round_2, caps2_predicted, name=\"weighted_predictions_round_2\")\n",
    "weighted_sum_round_2 = tf.reduce_sum(weighted_predictions_round_2, axis=1, keepdims=True, name=\"weighted_sum_round_2\")\n",
    "caps2_output_round_2 = squash_fn(weighted_sum_round_2, axis=-2, name=\"caps2_output_round_2\")"
   ]
  },
  {
   "cell_type": "code",
   "execution_count": null,
   "metadata": {
    "colab": {
     "base_uri": "https://localhost:8080/"
    },
    "id": "v9Zj-OKDkc9k",
    "outputId": "d30c2b4f-47fa-42b4-bf84-1024c1aaf0f3"
   },
   "outputs": [],
   "source": [
    "# Output label vectors\n",
    "caps2_output = caps2_output_round_2\n",
    "caps2_output"
   ]
  },
  {
   "cell_type": "markdown",
   "metadata": {
    "id": "q2cBw_WnkfGF"
   },
   "source": [
    "### Compute the class label probabilities"
   ]
  },
  {
   "cell_type": "code",
   "execution_count": null,
   "metadata": {
    "colab": {
     "base_uri": "https://localhost:8080/"
    },
    "id": "q-XofoQ6keJp",
    "outputId": "a905298e-1abe-459b-cb2b-8a8030b4eb6a"
   },
   "outputs": [],
   "source": [
    "# Compute the length of the output vectors which correspond to the class probabilities\n",
    "y_proba = safe_norm(caps2_output, axis=-2, name=\"y_proba\")\n",
    "y_proba_argmax = tf.argmax(y_proba, axis=2, name=\"y_proba\")\n",
    "y_proba_argmax # the index of the longest vector corresponds to the class label \n",
    "\n",
    "# Remove unnecessary dimensions\n",
    "y_pred = tf.squeeze(y_proba_argmax, axis=[1,2], name=\"y_pred\")\n",
    "y_pred"
   ]
  },
  {
   "cell_type": "markdown",
   "metadata": {
    "id": "IdQqfwlykmkj"
   },
   "source": [
    "### Compute the margin loss"
   ]
  },
  {
   "cell_type": "code",
   "execution_count": null,
   "metadata": {
    "id": "v_4ibeeKkl8P"
   },
   "outputs": [],
   "source": [
    "# Margin loss constants\n",
    "m_plus = 0.9\n",
    "m_minus = 0.1\n",
    "lambda_ = 0.5"
   ]
  },
  {
   "cell_type": "code",
   "execution_count": null,
   "metadata": {
    "colab": {
     "base_uri": "https://localhost:8080/"
    },
    "id": "F6q7sUQ_ksWN",
    "outputId": "9058d6f0-6205-4313-adb9-cb0ecf04f51e"
   },
   "outputs": [],
   "source": [
    "# Create a placeholder for the labels in one hot encoded format corresponding to num labels\n",
    "y = tf.placeholder(shape=[None], dtype=tf.int64, name=\"y\")\n",
    "T = tf.one_hot(y, depth=caps2_n_caps, name=\"T\")\n",
    "\n",
    "with tf.Session():\n",
    "  print(T.eval(feed_dict={y: np.array([0, 1, 2, 3, 9])}))"
   ]
  },
  {
   "cell_type": "code",
   "execution_count": null,
   "metadata": {
    "id": "yWDESzRJktVx"
   },
   "outputs": [],
   "source": [
    "# The length of the instantiation vector represents the probability that a capsule's entity is present in the scene.\n",
    "# A top-level capsule has a long vector if and only if its associated entity is present.\n",
    "# To allow for multiple entities, a separate margin loss is computed for each capsule.\n",
    "# Downweighting the loss for absent entities stops the learning from shrinking activity vector lengths for all entities.\n",
    "\n",
    "caps2_output_norm = safe_norm(caps2_output, axis=-2, name=\"caps2_output_norm\")\n",
    "\n",
    "present_error_raw = tf.square(tf.maximum(0., m_plus - caps2_output_norm), name=\"present_error_raw\")\n",
    "present_error = tf.reshape(present_error_raw, shape=(-1, 4), name=\"present_error\") # 10\n",
    "\n",
    "absent_error_raw = tf.square(tf.maximum(0., caps2_output_norm - m_minus), name=\"absent_error_raw\")\n",
    "absent_error = tf.reshape(absent_error_raw, shape=(-1, 4), name=\"absent_error\") # 10"
   ]
  },
  {
   "cell_type": "code",
   "execution_count": null,
   "metadata": {
    "id": "1jLyLZ-mkuig"
   },
   "outputs": [],
   "source": [
    "# Compute the margin loss value for each instance multiplied by each label\n",
    "L = tf.add(T * present_error, lambda_ * (1.0 - T) * absent_error, name=\"L\")"
   ]
  },
  {
   "cell_type": "code",
   "execution_count": null,
   "metadata": {
    "id": "k1ysf6PCkxCx"
   },
   "outputs": [],
   "source": [
    "# Sum the losses per label and calculate the mean value by data onservation instance\n",
    "margin_loss = tf.reduce_mean(tf.reduce_sum(L, axis=1), name=\"margin_loss\")"
   ]
  },
  {
   "cell_type": "code",
   "execution_count": null,
   "metadata": {
    "colab": {
     "base_uri": "https://localhost:8080/"
    },
    "id": "7VEaufnKkyN4",
    "outputId": "84952aa8-e11e-4745-c732-446587a0403d"
   },
   "outputs": [],
   "source": [
    "# Force the capsule network to preserve all information required to reconstruct the baseline images. This limits overfitting (increases generalization)\n",
    "\n",
    "# Create a mask so that only the output vector for the capsule that corresponds to the target label is evaluated\n",
    "mask_with_labels = tf.placeholder_with_default(False, shape=(), name=\"mask_with_labels\")\n",
    "\n",
    "# Use the ground truths for training, otherwise use the prediction values (unsupervised learning)\n",
    "reconstruction_targets = tf.cond(mask_with_labels, # condition\n",
    "                                 lambda: y,        # if True\n",
    "                                 lambda: y_pred,   # if False\n",
    "                                 name=\"reconstruction_targets\")\n",
    "\n",
    "#Array value is 1.0 for the target class, otherwise 0,0\n",
    "reconstruction_mask = tf.one_hot(reconstruction_targets, depth=caps2_n_caps, name=\"reconstruction_mask\")\n",
    "\n",
    "reconstruction_mask"
   ]
  },
  {
   "cell_type": "code",
   "execution_count": null,
   "metadata": {
    "colab": {
     "base_uri": "https://localhost:8080/"
    },
    "id": "6JbWNtELkzYC",
    "outputId": "d9493a33-beb9-41bf-b813-a7292dd70621"
   },
   "outputs": [],
   "source": [
    "caps2_output"
   ]
  },
  {
   "cell_type": "code",
   "execution_count": null,
   "metadata": {
    "colab": {
     "base_uri": "https://localhost:8080/"
    },
    "id": "pjkrd8O6k1UP",
    "outputId": "69ccdcfc-4330-44cc-c10c-b8a1b30c0ee2"
   },
   "outputs": [],
   "source": [
    "# Re-shape the reconstruction mask by increasing the rank in order to make the multiplication possible\n",
    "reconstruction_mask_reshaped = tf.reshape(reconstruction_mask, [-1, 1, caps2_n_caps, 1, 1], name=\"reconstruction_mask_reshaped\")\n",
    "caps2_output_masked = tf.multiply(caps2_output, reconstruction_mask_reshaped, name=\"caps2_output_masked\")\n",
    "caps2_output_masked"
   ]
  },
  {
   "cell_type": "code",
   "execution_count": null,
   "metadata": {
    "colab": {
     "base_uri": "https://localhost:8080/"
    },
    "id": "Vn7IzZaqk2m7",
    "outputId": "f3009aa0-22fb-46da-81c6-b33c4125df52"
   },
   "outputs": [],
   "source": [
    "# Flatten the decoder inputs\n",
    "decoder_input = tf.reshape(caps2_output_masked, [-1, caps2_n_caps * caps2_n_dims], name=\"decoder_input\")\n",
    "decoder_input"
   ]
  },
  {
   "cell_type": "code",
   "execution_count": null,
   "metadata": {
    "colab": {
     "base_uri": "https://localhost:8080/"
    },
    "id": "vxS50MO6k3tx",
    "outputId": "0c47d6aa-2512-4fbc-9432-e56a19a01d7a"
   },
   "outputs": [],
   "source": [
    "# The Decoder is a 3 Layer Dense Network\n",
    "n_hidden1 = 512\n",
    "n_hidden2 = 1024\n",
    "n_output = 56 * 56 \n",
    "\n",
    "with tf.name_scope(\"decoder\"):\n",
    "  hidden1 = tf.layers.dense(decoder_input, n_hidden1, activation=tf.nn.relu, name=\"hidden1\")\n",
    "  hidden2 = tf.layers.dense(hidden1, n_hidden2, activation=tf.nn.relu, name=\"hidden2\")\n",
    "  decoder_output = tf.layers.dense(hidden2, n_output, activation=tf.nn.sigmoid, name=\"decoder_output\")"
   ]
  },
  {
   "cell_type": "code",
   "execution_count": null,
   "metadata": {
    "id": "L7p1FChEk4zX"
   },
   "outputs": [],
   "source": [
    "# Mean squared difference between the input values\n",
    "X_flat = tf.reshape(X, [-1, n_output], name=\"X_flat\")\n",
    "squared_difference = tf.square(X_flat - decoder_output, name=\"squared_difference\")\n",
    "reconstruction_loss = tf.reduce_mean(squared_difference, name=\"reconstruction_loss\")"
   ]
  },
  {
   "cell_type": "markdown",
   "metadata": {
    "id": "H-ZPHvmf8O1G"
   },
   "source": [
    "### Compute Final Loss"
   ]
  },
  {
   "cell_type": "code",
   "execution_count": null,
   "metadata": {
    "id": "n1xKjAlo8KCK"
   },
   "outputs": [],
   "source": [
    "# The final loss is a weighted sum between the margin loss and the reconstruction loss which emphasizes the former value\n",
    "alpha = 0.0005\n",
    "loss = tf.add(margin_loss, alpha * reconstruction_loss, name=\"loss\")"
   ]
  },
  {
   "cell_type": "markdown",
   "metadata": {
    "id": "OCG2HTHc8TPE"
   },
   "source": [
    "### Evaluate Network accuracy"
   ]
  },
  {
   "cell_type": "code",
   "execution_count": null,
   "metadata": {
    "id": "PX_p6rhA8SHv"
   },
   "outputs": [],
   "source": [
    "correct = tf.equal(y, y_pred, name=\"correct\")\n",
    "accuracy = tf.reduce_mean(tf.cast(correct, tf.float32), name=\"accuracy\")"
   ]
  },
  {
   "cell_type": "markdown",
   "metadata": {
    "id": "kVmFR7Bt8bXg"
   },
   "source": [
    "### Initialize Optimizer and TF Values"
   ]
  },
  {
   "cell_type": "code",
   "execution_count": null,
   "metadata": {
    "id": "Q5cSn-6x8ZyG"
   },
   "outputs": [],
   "source": [
    "optimizer = tf.train.AdamOptimizer()\n",
    "training_op = optimizer.minimize(loss, name=\"training_op\")"
   ]
  },
  {
   "cell_type": "code",
   "execution_count": null,
   "metadata": {
    "id": "jAzAAjbd8hLR"
   },
   "outputs": [],
   "source": [
    "init = tf.global_variables_initializer()\n",
    "saver = tf.train.Saver(save_relative_paths=True)"
   ]
  },
  {
   "cell_type": "markdown",
   "metadata": {
    "id": "SS_9otus8a9t"
   },
   "source": [
    "### Run the capsule Training Algorithm"
   ]
  },
  {
   "cell_type": "code",
   "execution_count": null,
   "metadata": {
    "id": "j_vvVBxm8map"
   },
   "outputs": [],
   "source": [
    "# Training loop parameters\n",
    "n_epochs = 10\n",
    "batch_size = 50\n",
    "restore_checkpoint = True\n",
    "\n",
    "n_iterations_per_epoch = len(train_X) // batch_size\n",
    "n_iterations_validation = len(val_X) // batch_size\n",
    "best_loss_val = np.infty"
   ]
  },
  {
   "cell_type": "code",
   "execution_count": null,
   "metadata": {
    "id": "3OWZHfbs_Adk"
   },
   "outputs": [],
   "source": [
    "checkpoint_path = '/content/gdrive/MyDrive/brain_tumors/brain_capsule_network/'"
   ]
  },
  {
   "cell_type": "code",
   "execution_count": null,
   "metadata": {
    "colab": {
     "base_uri": "https://localhost:8080/",
     "height": 1000
    },
    "id": "hupvHCvL8nvn",
    "outputId": "7eb20222-85ed-4c56-ef5a-06ca8508e6ef"
   },
   "outputs": [],
   "source": [
    "#Training loop body\n",
    "with tf.Session() as sess:\n",
    "    if restore_checkpoint and tf.train.checkpoint_exists(checkpoint_path):\n",
    "         saver.restore(sess, checkpoint_path)\n",
    "    else:\n",
    "        init.run()\n",
    "\n",
    "    for epoch in range(n_epochs):\n",
    "        for iteration in range(1, n_iterations_per_epoch + 1):\n",
    "            start = (iteration-1)*batch_size\n",
    "            stop = iteration*batch_size\n",
    "            X_batch, y_batch = train_X[start:stop], train_y[start:stop]\n",
    "            # Run the training operation and measure the loss:\n",
    "            _, loss_train = sess.run(\n",
    "                [training_op, loss],\n",
    "                feed_dict={X: X_batch.reshape([-1, 56, 56, 1]),\n",
    "                           y: y_batch,\n",
    "                           mask_with_labels: True})\n",
    "            print(\"\\rIteration: {}/{} ({:.1f}%)  Loss: {:.5f}\".format(\n",
    "                      iteration, n_iterations_per_epoch,\n",
    "                      iteration * 100 / n_iterations_per_epoch,\n",
    "                      loss_train),\n",
    "                  end=\"\")\n",
    "\n",
    "        # At the end of each epoch, measure the validation loss and accuracy:\n",
    "        loss_vals = []\n",
    "        acc_vals = []\n",
    "        for iteration in range(1, n_iterations_validation + 1):\n",
    "            start = (iteration-1)*batch_size\n",
    "            stop = iteration*batch_size\n",
    "            X_batch, y_batch = val_X[start:stop], val_y[start:stop]   \n",
    "            loss_val, acc_val = sess.run(\n",
    "                    [loss, accuracy],\n",
    "                    feed_dict={X: X_batch.reshape([-1, 56, 56, 1]),\n",
    "                               y: y_batch})\n",
    "            loss_vals.append(loss_val)\n",
    "            acc_vals.append(acc_val)\n",
    "            print(\"\\rEvaluating the model: {}/{} ({:.1f}%)\".format(\n",
    "                      iteration, n_iterations_validation,\n",
    "                      iteration * 100 / n_iterations_validation),\n",
    "                  end=\" \" * 10)\n",
    "        loss_val = np.mean(loss_vals)\n",
    "        acc_val = np.mean(acc_vals)\n",
    "        print(\"\\rEpoch: {}  Val accuracy: {:.4f}%  Loss: {:.6f}{}\".format(\n",
    "            epoch + 1, acc_val * 100, loss_val,\n",
    "            \" (improved)\" if loss_val < best_loss_val else \"\"))\n",
    "\n",
    "        # And save the model if it improved:\n",
    "        if loss_val < best_loss_val:\n",
    "            save_path = saver.save(sess, checkpoint_path)\n",
    "            best_loss_val = loss_val"
   ]
  },
  {
   "cell_type": "markdown",
   "metadata": {
    "id": "6nm250K28xIz"
   },
   "source": [
    "### Evaluate Model Performance"
   ]
  },
  {
   "cell_type": "code",
   "execution_count": null,
   "metadata": {
    "id": "WE3eDnuO8pMI"
   },
   "outputs": [],
   "source": [
    "n_iterations_test = len(test_X)// batch_size\n",
    "\n",
    "with tf.Session() as sess:\n",
    "  saver.restore(sess, checkpoint_path)\n",
    "  sess.run(tf.global_variables_initializer())\n",
    "\n",
    "  loss_tests = []\n",
    "  acc_tests = []\n",
    "  for iteration in range(1, n_iterations_test + 1):\n",
    "    start = (iteration-1)*batch_size\n",
    "    stop = iteration*batch_size\n",
    "    X_batch, y_batch = test_X[start:stop], test_y[start:stop]   \n",
    "    loss_test, acc_test = sess.run(\n",
    "            [loss, accuracy],\n",
    "            feed_dict={X: X_batch.reshape([-1, 56, 56, 1]), y: y_batch})\n",
    "    loss_tests.append(loss_test)\n",
    "    acc_tests.append(acc_test)\n",
    "    print(\"\\rEvaluating the model: {}/{} ({:.1f}%)\".format(\n",
    "              iteration, n_iterations_test,\n",
    "              iteration * 100 / n_iterations_test), end=\" \" * 10)\n",
    "  loss_test = np.mean(loss_tests)\n",
    "  acc_test = np.mean(acc_tests)\n",
    "  print(\"\\rFinal test accuracy: {:.4f}%  Loss: {:.6f}\".format(\n",
    "      acc_test * 100, loss_test))"
   ]
  },
  {
   "cell_type": "code",
   "execution_count": null,
   "metadata": {
    "id": "C9k8pXcu81NC"
   },
   "outputs": [],
   "source": [
    "n_iterations_test = len(test_X)// batch_size\n",
    "batch_labels = []\n",
    "predictions = []\n",
    "\n",
    "with tf.Session() as sess:\n",
    "  saver.restore(sess, checkpoint_path)\n",
    "  sess.run(tf.global_variables_initializer())\n",
    "\n",
    "  for iteration in range(1, n_iterations_test + 1):\n",
    "    start = (iteration-1)*batch_size\n",
    "    stop = iteration*batch_size\n",
    "    X_batch, y_batch = test_X[start:stop], test_y[start:stop]   \n",
    "    batch_labels.append(sess.run(\n",
    "          [y_pred],\n",
    "          feed_dict={X: X_batch.reshape([-1, 56, 56, 1]), y: y_batch}))\n",
    "\n",
    "  for i in range(len(batch_labels)):\n",
    "    for j in range(len(batch_labels[i])):\n",
    "      for k in range(len(batch_labels[i][j])):\n",
    "        predictions.append(batch_labels[i][j][k])\n",
    "\n",
    "  test_vals = test_y[0:700]\n",
    "  con_mat = confusion_matrix(test_vals, predictions)\n",
    "  con_df = pd.DataFrame(data=con_mat, index=CATEGORIES, columns=CATEGORIES)\n",
    "\n",
    "  print(con_df)\n",
    "  print('\\n')\n",
    "\n",
    "  # accuracy: (tp + tn) / (p + n)\n",
    "  accuracy = accuracy_score(test_vals, predictions)\n",
    "  print('Accuracy: %f' % accuracy)\n",
    "  # precision tp / (tp + fp)\n",
    "  precision = precision_score(test_vals, predictions, average='weighted')\n",
    "  print('Precision: %f' % precision)\n",
    "  # recall: tp / (tp + fn)\n",
    "  recall = recall_score(test_vals, predictions, average='weighted')\n",
    "  print('Recall: %f' % recall)\n",
    "  # f1: 2 tp / (2 tp + fp + fn)\n",
    "  f1 = f1_score(test_vals, predictions, average='weighted')\n",
    "  print('F1 score: %f' % f1)\n"
   ]
  },
  {
   "cell_type": "markdown",
   "metadata": {
    "id": "AyBn58hk86sl"
   },
   "source": [
    "# Capsule Result Summary"
   ]
  },
  {
   "cell_type": "markdown",
   "metadata": {
    "id": "pd9cd1VY9Bpv"
   },
   "source": [
    "This Neural Network is composed of a primary capsule layer and a classification capsule layer. The primary layer re-shapes the input from a dense framework of two convolutional layers to create the initial vectors (capsules). Each of these convolutional layers  contains 256 filters (nodes), a 9x9 kernel and a stride length of one and two respectively. The output of the convolutional layers are used to build the primary layer of 12,800 capsules broken down into 32 20x20 maps of eight dimensional vectors. The architecture culminates in a classification capsule layer composed of four 16 dimensional vectors.\n",
    "\n",
    "Information is selectively disseminated between nodes in the two capsule layers via a 'Routing by Agreement' algorithm allowing the network to gradually train itself to identify relevant classification features by matching pose predictions about relevant object subcomponents. The network outputs label probabilities and captures a weighted aggregation of 'margin' and 'reconstruction' losses for each instance before performing back propagation. The process of reconstruction regularizes the model and relies on the implementation of a decoder sub-network that rebuilds input images from capsule network outputs. The decoder has a dense 3 layer feed forward structure with node sizes corresponding to 512, 1024 and 3,136 (56 x 56) respectively. The margin loss helps to mininmize 'noise' and identify overlapping objects by providing a mechanism to determine percentage of a particular class that is present within each image.\n",
    "\n",
    "**The netowrk was trained for 30 epochs with a batch size of 50 and achieved 98% accuracy on the test data including precision and recall.**"
   ]
  },
  {
   "cell_type": "code",
   "execution_count": null,
   "metadata": {
    "id": "Q1bBYssY9CMH"
   },
   "outputs": [],
   "source": []
  }
 ],
 "metadata": {
  "accelerator": "GPU",
  "colab": {
   "collapsed_sections": [],
   "name": "CapsNet_Brain_tumor.ipynb",
   "provenance": []
  },
  "kernelspec": {
   "display_name": "Python 3",
   "language": "python",
   "name": "python3"
  },
  "language_info": {
   "codemirror_mode": {
    "name": "ipython",
    "version": 3
   },
   "file_extension": ".py",
   "mimetype": "text/x-python",
   "name": "python",
   "nbconvert_exporter": "python",
   "pygments_lexer": "ipython3",
   "version": "3.8.10"
  }
 },
 "nbformat": 4,
 "nbformat_minor": 1
}
